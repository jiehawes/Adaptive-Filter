{
  "nbformat": 4,
  "nbformat_minor": 0,
  "metadata": {
    "colab": {
      "provenance": [],
      "authorship_tag": "ABX9TyOkeiH/YIfFkNkRYlAeft+G",
      "include_colab_link": true
    },
    "kernelspec": {
      "name": "python3",
      "display_name": "Python 3"
    },
    "language_info": {
      "name": "python"
    }
  },
  "cells": [
    {
      "cell_type": "markdown",
      "metadata": {
        "id": "view-in-github",
        "colab_type": "text"
      },
      "source": [
        "<a href=\"https://colab.research.google.com/github/jiehawes/Adaptive-Filter/blob/master/AdaptiveFilter.ipynb\" target=\"_parent\"><img src=\"https://colab.research.google.com/assets/colab-badge.svg\" alt=\"Open In Colab\"/></a>"
      ]
    },
    {
      "cell_type": "code",
      "execution_count": null,
      "metadata": {
        "id": "iRt6kiPY52Oe"
      },
      "outputs": [],
      "source": [
        "# Copyright (c) 2021, David Williams, Reza Sameni\n",
        "# All rights reserved.\n",
        "# https://gitlab.com/rsameni/OSET/-/blob/master/Python3/Tools/AdaptiveFilter.py\n",
        "\n",
        "# This source code is licensed under the BSD-style license found in the\n",
        "# LICENSE file in the root directory of this source tree. \n",
        "\n",
        "import numpy as np\n",
        "\n",
        "def AdaptiveFilter(x,delay,taps,mu):\n",
        "\n",
        "    xref = np.concatenate((np.zeros(delay + taps - 1),x[0:-delay]))\n",
        "    w = np.ones(taps)\n",
        "\n",
        "    n = np.zeros(len(x))\n",
        "    e = np.zeros(len(x))\n",
        "\n",
        "    for i in range(len(x)):\n",
        "        if i > taps - 1:\n",
        "            xr = xref[i:i-taps:-1]\n",
        "        else:\n",
        "            xr = np.concatenate((xref[i::-1],np.zeros(taps-i-1)))\n",
        "\n",
        "        n[i] = np.dot(w,xr)\n",
        "        e[i] = x[i] - n[i]\n",
        "        w += 2 * mu * e[i] * xr\n",
        "        \n",
        "    return(e,n)"
      ]
    }
  ]
}